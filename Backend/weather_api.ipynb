{
 "cells": [
  {
   "cell_type": "code",
   "execution_count": 9,
   "metadata": {},
   "outputs": [],
   "source": [
    "import pandas as pd\n",
    "import requests\n",
    "import datetime\n",
    "from datetime import time, timedelta\n",
    "\n",
    "pd.set_option('display.max_columns', None)\n",
    "pd.set_option('display.max_rows', None)\n",
    "pd.set_option('max_colwidth', None)"
   ]
  },
  {
   "cell_type": "code",
   "execution_count": 2,
   "metadata": {},
   "outputs": [],
   "source": [
    "API_KEY = '7d479459fdadac536d4f7cf92bda0f07'\n",
    "cities = ['Margaux', 'Soussan', 'Macau, FR', 'Castelnau-de-Medoc','Lamarque, FR', 'Ludon-Medoc', 'Arsac', 'Brach, FR', 'Saint-Laurent Medoc' ]"
   ]
  },
  {
   "attachments": {},
   "cell_type": "markdown",
   "metadata": {},
   "source": [
    "## Current Data"
   ]
  },
  {
   "cell_type": "code",
   "execution_count": 6,
   "metadata": {},
   "outputs": [],
   "source": [
    "columns_mandatory = ['observation_time','temperature','weather_code','wind_speed',\n",
    "                     'wind_degree','wind_dir','pressure','precip','humidity',\n",
    "                     'cloudcover','feelslike','uv_index','visibility','time','city']\n",
    "\n",
    "df_current = pd.DataFrame(columns= columns_mandatory)\n",
    "type_request = 'current'\n",
    "\n",
    "# collect current data and create DataFrame\n",
    "for city in cities:\n",
    "    df_tmp = {}\n",
    "    params = {\n",
    "        'access_key': API_KEY,\n",
    "        'query': city,\n",
    "        'historical_date_start' : '2015-01-01',\n",
    "        'historical_date_end' : '2016-01-01',\n",
    "        'hourly' : 1,\n",
    "        'interval': 3}\n",
    "    api_result = requests.get(f'http://api.weatherstack.com/{type_request}', params)\n",
    "    response = api_result.json()\n",
    "    current = response['current']\n",
    "    df_tmp['observation_time'] = response['location']['localtime']\n",
    "    df_tmp['temperature'] = current['temperature']\n",
    "    df_tmp['weather_code'] = current['weather_code']\n",
    "    df_tmp['wind_speed'] = current['wind_speed']\n",
    "    df_tmp['wind_degree'] = current['wind_degree']\n",
    "    df_tmp['wind_dir'] = current['wind_dir']\n",
    "    df_tmp['pressure'] = current['pressure']\n",
    "    df_tmp['precip'] = current['precip']\n",
    "    df_tmp['humidity'] = current['humidity']\n",
    "    df_tmp['cloudcover'] = current['cloudcover']\n",
    "    df_tmp['feelslike'] = current['feelslike']\n",
    "    df_tmp['uv_index'] = current['uv_index']\n",
    "    df_tmp['visibility'] = current['visibility']\n",
    "    df_tmp['time'] = current['observation_time']\n",
    "    df_tmp['city'] = city\n",
    "    df_tmp = pd.DataFrame(data=df_tmp,index=[0])\n",
    "    df_current = pd.concat([df_current, df_tmp])\n",
    "\n",
    "df_current.reset_index(inplace=True, drop=True)\n",
    "\n",
    "# Modify DataFrame to have same strutucre than historical Dataframe\n",
    "for i in range(df_current.shape[0]):\n",
    "    x, y = df_current['observation_time'][i].split(' ')\n",
    "    df_current['observation_time'][i] = x\n",
    "    time = datetime.datetime.strptime(df_current['time'][i], \"%I:%M %p\")\n",
    "    df_current['time'][i] = time.strftime('%H:%M')"
   ]
  },
  {
   "attachments": {},
   "cell_type": "markdown",
   "metadata": {},
   "source": [
    "## Historical Data"
   ]
  },
  {
   "cell_type": "code",
   "execution_count": 10,
   "metadata": {},
   "outputs": [
    {
     "data": {
      "text/plain": [
       "['observation_time',\n",
       " 'temperature',\n",
       " 'weather_code',\n",
       " 'wind_speed',\n",
       " 'wind_degree',\n",
       " 'wind_dir',\n",
       " 'pressure',\n",
       " 'precip',\n",
       " 'humidity',\n",
       " 'cloudcover',\n",
       " 'feelslike',\n",
       " 'uv_index',\n",
       " 'visibility',\n",
       " 'time',\n",
       " 'city']"
      ]
     },
     "execution_count": 10,
     "metadata": {},
     "output_type": "execute_result"
    }
   ],
   "source": [
    "columns_mandatory = ['observation_time','temperature','weather_code','wind_speed',\n",
    "                     'wind_degree','wind_dir','pressure','precip','humidity',\n",
    "                     'cloudcover','feelslike','uv_index','visibility','time','city']\n",
    "columns_mandatory"
   ]
  },
  {
   "cell_type": "code",
   "execution_count": 359,
   "metadata": {},
   "outputs": [],
   "source": [
    "type_request = 'historical'\n",
    "limit_date = datetime.date(2022, 12, 1)\n",
    "response_historical = dict()\n",
    "df_historical = pd.DataFrame(columns=columns_mandatory)\n",
    "\n",
    "\n",
    "for city in cities:\n",
    "    date_calcul = datetime.date.today()\n",
    "    i=0\n",
    "    while date_calcul > limit_date:\n",
    "        past = date_calcul - datetime.timedelta(days=59)\n",
    "        past_str = past.strftime('%Y-%m-%d')\n",
    "        \n",
    "        params = {\n",
    "            'access_key': API_KEY,\n",
    "            'query': city,\n",
    "            'historical_date_start': past,\n",
    "            'historical_date_end': date_calcul,\n",
    "            'hourly': '1',\n",
    "            'interval': '3'\n",
    "        }\n",
    "        \n",
    "        api_result = requests.get(f'https://api.weatherstack.com/{type_request}', params)\n",
    "        response_historical[i] = api_result.json()\n",
    "        df_temp = pd.DataFrame.from_dict(response_historical[i]).transpose()\n",
    "        df_temp = df_temp.drop(['request','location','current'], axis = 0)\n",
    "        df_temp = df_temp.drop(df_temp.columns[0:29], axis = 1)\n",
    "        df_temp = df_temp.transpose()\n",
    "        for j in range(df_temp.shape[0]):\n",
    "            df_int = df_temp.iloc[j]\n",
    "            date_int = df_int['historical']['date']\n",
    "            hourly_int = df_int['historical']['hourly']\n",
    "\n",
    "            for k in range(len(hourly_int)):\n",
    "                df_historical_temp = pd.DataFrame(columns=columns_mandatory)\n",
    "                df_calcul = pd.DataFrame(hourly_int[k])\n",
    "                df_historical_temp = pd.concat([df_historical_temp, df_calcul], axis = 0)\n",
    "                df_historical_temp[columns_mandatory[0]] = date_int\n",
    "                df_historical_temp['city'] = city \n",
    "                df_historical_temp = df_historical_temp[columns_mandatory]\n",
    "                df_historical = pd.concat([df_historical_temp, df_historical], axis = 0)\n",
    "\n",
    "\n",
    "        \n",
    "        date_calcul = past\n",
    "        i += 1\n",
    "\n",
    "# Conversion of Col time from xxxx in hh:mm\n",
    "df_historical['time'] = df_historical['time'].apply(lambda x: ':'.join((x[0:2],x[-2:])) if len(x) == 4 else ':'.join((x[0:1],x[-2:])))"
   ]
  },
  {
   "cell_type": "code",
   "execution_count": null,
   "metadata": {},
   "outputs": [],
   "source": [
    "df_historical"
   ]
  }
 ],
 "metadata": {
  "kernelspec": {
   "display_name": "mlops-fastai",
   "language": "python",
   "name": "python3"
  },
  "language_info": {
   "codemirror_mode": {
    "name": "ipython",
    "version": 3
   },
   "file_extension": ".py",
   "mimetype": "text/x-python",
   "name": "python",
   "nbconvert_exporter": "python",
   "pygments_lexer": "ipython3",
   "version": "3.10.11"
  },
  "orig_nbformat": 4
 },
 "nbformat": 4,
 "nbformat_minor": 2
}
